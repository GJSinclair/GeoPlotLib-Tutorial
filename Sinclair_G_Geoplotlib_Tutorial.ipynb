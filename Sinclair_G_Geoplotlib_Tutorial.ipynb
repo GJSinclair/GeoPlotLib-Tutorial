{
 "cells": [
  {
   "cell_type": "markdown",
   "metadata": {},
   "source": [
    "# Geoplotlib Tutorial\n",
    "### by Greyson Sinclair"
   ]
  },
  {
   "cell_type": "markdown",
   "metadata": {},
   "source": [
    "A user guide for geoplotlib can be found here: https://github.com/andrea-cuttone/geoplotlib/wiki/User-Guide"
   ]
  },
  {
   "cell_type": "markdown",
   "metadata": {},
   "source": [
    "For the full documentation of geoplotlib, check out this github page: https://github.com/andrea-cuttone/geoplotlib.\n",
    "Geoplotlib is a python toolbox created by Andrea Cuttone. It is used for visualizing geographical data and creating maps. When geoplotlib is launched with the geoplotlib.show() command it will open in a new window in the form of an interactive map that lets you zoom, drag, and interact with the data. It is easy to use to quickly plot data into a map, and has some advanced features such as animations and color maps that let you view data points in a unique visually appealing way."
   ]
  },
  {
   "cell_type": "markdown",
   "metadata": {},
   "source": [
    "The examples in this tutorial will be adapted from the examples found in the geoplotlib github branch. The data will come from those examples, as well as campsite data from kaggle."
   ]
  },
  {
   "cell_type": "markdown",
   "metadata": {},
   "source": [
    "**INSTALLATION:** (this information is found on the github page linked above)\n",
    "\n",
    "**geoplotlib requires:**\n",
    "\n",
    "numpy: http://www.numpy.org/\n",
    "\n",
    "pyglet 1.2.4: https://bitbucket.org/pyglet/pyglet/wiki/Download YOU MUST DOWNLOAD AND INSTALL pyglet\n",
    "\n",
    "**optional requirements:** matplotlib for colormaps, scipy for some layers, pyshp for reading .shp files\n",
    "\n",
    "**To Install, Run:** *'pip install geoplotlib'* in the command prompt"
   ]
  },
  {
   "cell_type": "markdown",
   "metadata": {},
   "source": [
    "#### First we need to prepare the data we are going to use. Geoplotlib needs two specific columns to function correctly, 'lat' and 'lon' which stand for latitude and longitude respectively. "
   ]
  },
  {
   "cell_type": "code",
   "execution_count": 1,
   "metadata": {
    "collapsed": true
   },
   "outputs": [],
   "source": [
    "#import standard python packages to get started\n",
    "import pandas as pd\n",
    "import numpy as np\n",
    "import matplotlib as plt\n",
    "%matplotlib inline"
   ]
  },
  {
   "cell_type": "markdown",
   "metadata": {},
   "source": [
    "#### For this example we are using federal campsite locations\n",
    "\n",
    "https://www.kaggle.com/cypranowska/us-campsites/data"
   ]
  },
  {
   "cell_type": "code",
   "execution_count": 2,
   "metadata": {},
   "outputs": [
    {
     "data": {
      "text/html": [
       "<div>\n",
       "<style>\n",
       "    .dataframe thead tr:only-child th {\n",
       "        text-align: right;\n",
       "    }\n",
       "\n",
       "    .dataframe thead th {\n",
       "        text-align: left;\n",
       "    }\n",
       "\n",
       "    .dataframe tbody tr th {\n",
       "        vertical-align: top;\n",
       "    }\n",
       "</style>\n",
       "<table border=\"1\" class=\"dataframe\">\n",
       "  <thead>\n",
       "    <tr style=\"text-align: right;\">\n",
       "      <th></th>\n",
       "      <th>Unnamed: 0</th>\n",
       "      <th>CampsiteID</th>\n",
       "      <th>CampsiteName</th>\n",
       "      <th>CampsiteType</th>\n",
       "      <th>FacilityID</th>\n",
       "      <th>FacilityLatitude</th>\n",
       "      <th>FacilityLongitude</th>\n",
       "      <th>FacilityName</th>\n",
       "      <th>AddressStateCode</th>\n",
       "      <th>OrgAbbrevName</th>\n",
       "    </tr>\n",
       "  </thead>\n",
       "  <tbody>\n",
       "    <tr>\n",
       "      <th>0</th>\n",
       "      <td>0</td>\n",
       "      <td>1</td>\n",
       "      <td>65</td>\n",
       "      <td>STANDARD NONELECTRIC</td>\n",
       "      <td>232446</td>\n",
       "      <td>37.573056</td>\n",
       "      <td>-119.665</td>\n",
       "      <td>WAWONA</td>\n",
       "      <td>CA</td>\n",
       "      <td>NPS</td>\n",
       "    </tr>\n",
       "    <tr>\n",
       "      <th>1</th>\n",
       "      <td>1</td>\n",
       "      <td>2</td>\n",
       "      <td>66</td>\n",
       "      <td>STANDARD NONELECTRIC</td>\n",
       "      <td>232446</td>\n",
       "      <td>37.573056</td>\n",
       "      <td>-119.665</td>\n",
       "      <td>WAWONA</td>\n",
       "      <td>CA</td>\n",
       "      <td>NPS</td>\n",
       "    </tr>\n",
       "    <tr>\n",
       "      <th>2</th>\n",
       "      <td>2</td>\n",
       "      <td>5</td>\n",
       "      <td>68</td>\n",
       "      <td>STANDARD NONELECTRIC</td>\n",
       "      <td>232446</td>\n",
       "      <td>37.573056</td>\n",
       "      <td>-119.665</td>\n",
       "      <td>WAWONA</td>\n",
       "      <td>CA</td>\n",
       "      <td>NPS</td>\n",
       "    </tr>\n",
       "    <tr>\n",
       "      <th>3</th>\n",
       "      <td>3</td>\n",
       "      <td>6</td>\n",
       "      <td>70</td>\n",
       "      <td>STANDARD NONELECTRIC</td>\n",
       "      <td>232446</td>\n",
       "      <td>37.573056</td>\n",
       "      <td>-119.665</td>\n",
       "      <td>WAWONA</td>\n",
       "      <td>CA</td>\n",
       "      <td>NPS</td>\n",
       "    </tr>\n",
       "    <tr>\n",
       "      <th>4</th>\n",
       "      <td>4</td>\n",
       "      <td>9</td>\n",
       "      <td>74</td>\n",
       "      <td>STANDARD NONELECTRIC</td>\n",
       "      <td>232446</td>\n",
       "      <td>37.573056</td>\n",
       "      <td>-119.665</td>\n",
       "      <td>WAWONA</td>\n",
       "      <td>CA</td>\n",
       "      <td>NPS</td>\n",
       "    </tr>\n",
       "  </tbody>\n",
       "</table>\n",
       "</div>"
      ],
      "text/plain": [
       "   Unnamed: 0  CampsiteID CampsiteName          CampsiteType  FacilityID  \\\n",
       "0           0           1           65  STANDARD NONELECTRIC      232446   \n",
       "1           1           2           66  STANDARD NONELECTRIC      232446   \n",
       "2           2           5           68  STANDARD NONELECTRIC      232446   \n",
       "3           3           6           70  STANDARD NONELECTRIC      232446   \n",
       "4           4           9           74  STANDARD NONELECTRIC      232446   \n",
       "\n",
       "   FacilityLatitude  FacilityLongitude FacilityName AddressStateCode  \\\n",
       "0         37.573056           -119.665       WAWONA               CA   \n",
       "1         37.573056           -119.665       WAWONA               CA   \n",
       "2         37.573056           -119.665       WAWONA               CA   \n",
       "3         37.573056           -119.665       WAWONA               CA   \n",
       "4         37.573056           -119.665       WAWONA               CA   \n",
       "\n",
       "  OrgAbbrevName  \n",
       "0           NPS  \n",
       "1           NPS  \n",
       "2           NPS  \n",
       "3           NPS  \n",
       "4           NPS  "
      ]
     },
     "execution_count": 2,
     "metadata": {},
     "output_type": "execute_result"
    }
   ],
   "source": [
    "df = pd.read_csv('data/fed_campsites.csv')\n",
    "df.head()"
   ]
  },
  {
   "cell_type": "markdown",
   "metadata": {},
   "source": [
    "#### Use info to find out if longitude and latitude are missing (hint: they are!)"
   ]
  },
  {
   "cell_type": "code",
   "execution_count": 3,
   "metadata": {},
   "outputs": [
    {
     "name": "stdout",
     "output_type": "stream",
     "text": [
      "<class 'pandas.core.frame.DataFrame'>\n",
      "RangeIndex: 91907 entries, 0 to 91906\n",
      "Data columns (total 10 columns):\n",
      "Unnamed: 0           91907 non-null int64\n",
      "CampsiteID           91907 non-null int64\n",
      "CampsiteName         91907 non-null object\n",
      "CampsiteType         91907 non-null object\n",
      "FacilityID           91907 non-null int64\n",
      "FacilityLatitude     91880 non-null float64\n",
      "FacilityLongitude    91880 non-null float64\n",
      "FacilityName         91907 non-null object\n",
      "AddressStateCode     91907 non-null object\n",
      "OrgAbbrevName        91907 non-null object\n",
      "dtypes: float64(2), int64(3), object(5)\n",
      "memory usage: 7.0+ MB\n"
     ]
    }
   ],
   "source": [
    "df.info()"
   ]
  },
  {
   "cell_type": "markdown",
   "metadata": {},
   "source": [
    "#### Drop any unnecessary rows, we can only use the rows with both latitude and longitude so the others must be dropped."
   ]
  },
  {
   "cell_type": "code",
   "execution_count": 4,
   "metadata": {},
   "outputs": [
    {
     "name": "stdout",
     "output_type": "stream",
     "text": [
      "<class 'pandas.core.frame.DataFrame'>\n",
      "Int64Index: 91880 entries, 0 to 91906\n",
      "Data columns (total 10 columns):\n",
      "Unnamed: 0           91880 non-null int64\n",
      "CampsiteID           91880 non-null int64\n",
      "CampsiteName         91880 non-null object\n",
      "CampsiteType         91880 non-null object\n",
      "FacilityID           91880 non-null int64\n",
      "FacilityLatitude     91880 non-null float64\n",
      "FacilityLongitude    91880 non-null float64\n",
      "FacilityName         91880 non-null object\n",
      "AddressStateCode     91880 non-null object\n",
      "OrgAbbrevName        91880 non-null object\n",
      "dtypes: float64(2), int64(3), object(5)\n",
      "memory usage: 7.7+ MB\n"
     ]
    }
   ],
   "source": [
    "df = df.dropna()\n",
    "df.info()"
   ]
  },
  {
   "cell_type": "markdown",
   "metadata": {},
   "source": [
    "#### Geoplotlib only recognizes latitude and longitude as 'lat' and 'lon' so we need to rename those two columns."
   ]
  },
  {
   "cell_type": "code",
   "execution_count": 5,
   "metadata": {},
   "outputs": [
    {
     "data": {
      "text/html": [
       "<div>\n",
       "<style>\n",
       "    .dataframe thead tr:only-child th {\n",
       "        text-align: right;\n",
       "    }\n",
       "\n",
       "    .dataframe thead th {\n",
       "        text-align: left;\n",
       "    }\n",
       "\n",
       "    .dataframe tbody tr th {\n",
       "        vertical-align: top;\n",
       "    }\n",
       "</style>\n",
       "<table border=\"1\" class=\"dataframe\">\n",
       "  <thead>\n",
       "    <tr style=\"text-align: right;\">\n",
       "      <th></th>\n",
       "      <th>Unnamed: 0</th>\n",
       "      <th>CampsiteID</th>\n",
       "      <th>CampsiteName</th>\n",
       "      <th>CampsiteType</th>\n",
       "      <th>FacilityID</th>\n",
       "      <th>lat</th>\n",
       "      <th>lon</th>\n",
       "      <th>FacilityName</th>\n",
       "      <th>AddressStateCode</th>\n",
       "      <th>OrgAbbrevName</th>\n",
       "    </tr>\n",
       "  </thead>\n",
       "  <tbody>\n",
       "    <tr>\n",
       "      <th>0</th>\n",
       "      <td>0</td>\n",
       "      <td>1</td>\n",
       "      <td>65</td>\n",
       "      <td>STANDARD NONELECTRIC</td>\n",
       "      <td>232446</td>\n",
       "      <td>37.573056</td>\n",
       "      <td>-119.665</td>\n",
       "      <td>WAWONA</td>\n",
       "      <td>CA</td>\n",
       "      <td>NPS</td>\n",
       "    </tr>\n",
       "    <tr>\n",
       "      <th>1</th>\n",
       "      <td>1</td>\n",
       "      <td>2</td>\n",
       "      <td>66</td>\n",
       "      <td>STANDARD NONELECTRIC</td>\n",
       "      <td>232446</td>\n",
       "      <td>37.573056</td>\n",
       "      <td>-119.665</td>\n",
       "      <td>WAWONA</td>\n",
       "      <td>CA</td>\n",
       "      <td>NPS</td>\n",
       "    </tr>\n",
       "    <tr>\n",
       "      <th>2</th>\n",
       "      <td>2</td>\n",
       "      <td>5</td>\n",
       "      <td>68</td>\n",
       "      <td>STANDARD NONELECTRIC</td>\n",
       "      <td>232446</td>\n",
       "      <td>37.573056</td>\n",
       "      <td>-119.665</td>\n",
       "      <td>WAWONA</td>\n",
       "      <td>CA</td>\n",
       "      <td>NPS</td>\n",
       "    </tr>\n",
       "    <tr>\n",
       "      <th>3</th>\n",
       "      <td>3</td>\n",
       "      <td>6</td>\n",
       "      <td>70</td>\n",
       "      <td>STANDARD NONELECTRIC</td>\n",
       "      <td>232446</td>\n",
       "      <td>37.573056</td>\n",
       "      <td>-119.665</td>\n",
       "      <td>WAWONA</td>\n",
       "      <td>CA</td>\n",
       "      <td>NPS</td>\n",
       "    </tr>\n",
       "    <tr>\n",
       "      <th>4</th>\n",
       "      <td>4</td>\n",
       "      <td>9</td>\n",
       "      <td>74</td>\n",
       "      <td>STANDARD NONELECTRIC</td>\n",
       "      <td>232446</td>\n",
       "      <td>37.573056</td>\n",
       "      <td>-119.665</td>\n",
       "      <td>WAWONA</td>\n",
       "      <td>CA</td>\n",
       "      <td>NPS</td>\n",
       "    </tr>\n",
       "  </tbody>\n",
       "</table>\n",
       "</div>"
      ],
      "text/plain": [
       "   Unnamed: 0  CampsiteID CampsiteName          CampsiteType  FacilityID  \\\n",
       "0           0           1           65  STANDARD NONELECTRIC      232446   \n",
       "1           1           2           66  STANDARD NONELECTRIC      232446   \n",
       "2           2           5           68  STANDARD NONELECTRIC      232446   \n",
       "3           3           6           70  STANDARD NONELECTRIC      232446   \n",
       "4           4           9           74  STANDARD NONELECTRIC      232446   \n",
       "\n",
       "         lat      lon FacilityName AddressStateCode OrgAbbrevName  \n",
       "0  37.573056 -119.665       WAWONA               CA           NPS  \n",
       "1  37.573056 -119.665       WAWONA               CA           NPS  \n",
       "2  37.573056 -119.665       WAWONA               CA           NPS  \n",
       "3  37.573056 -119.665       WAWONA               CA           NPS  \n",
       "4  37.573056 -119.665       WAWONA               CA           NPS  "
      ]
     },
     "execution_count": 5,
     "metadata": {},
     "output_type": "execute_result"
    }
   ],
   "source": [
    "df = df.rename(columns={'FacilityLatitude': 'lat'})\n",
    "df = df.rename(columns={'FacilityLongitude': 'lon'})\n",
    "df.head()"
   ]
  },
  {
   "cell_type": "markdown",
   "metadata": {},
   "source": [
    "#### Now save this data as a new csv file that will be read by geoplotlib. We will save it as 'campsites.csv'"
   ]
  },
  {
   "cell_type": "code",
   "execution_count": 6,
   "metadata": {
    "collapsed": true
   },
   "outputs": [],
   "source": [
    "df.to_csv(\"data/campsites.csv\")"
   ]
  },
  {
   "cell_type": "markdown",
   "metadata": {},
   "source": [
    "#### Our campsites data is now ready to be imported into geoplotlib"
   ]
  },
  {
   "cell_type": "code",
   "execution_count": 7,
   "metadata": {
    "collapsed": true
   },
   "outputs": [],
   "source": [
    "#Import geoplotlib and the geoplotlib csv reader\n",
    "import geoplotlib\n",
    "from geoplotlib.utils import read_csv"
   ]
  },
  {
   "cell_type": "markdown",
   "metadata": {},
   "source": [
    "#### Here we need to read the campsite loction data into geoplotlib with read_csv. We will name the data 'data'. "
   ]
  },
  {
   "cell_type": "code",
   "execution_count": 8,
   "metadata": {
    "collapsed": true
   },
   "outputs": [],
   "source": [
    "data = read_csv('data/campsites.csv')"
   ]
  },
  {
   "cell_type": "markdown",
   "metadata": {},
   "source": [
    "### Dot Map"
   ]
  },
  {
   "cell_type": "markdown",
   "metadata": {},
   "source": [
    "#### In this first example, we are making a simple dot map. This is done with the geoplotlib.dot() command, and we simply call the data into the command, then use geoplotlib.show() to show the data."
   ]
  },
  {
   "cell_type": "code",
   "execution_count": 9,
   "metadata": {
    "collapsed": true
   },
   "outputs": [],
   "source": [
    "geoplotlib.dot(data)\n",
    "geoplotlib.show()"
   ]
  },
  {
   "cell_type": "markdown",
   "metadata": {},
   "source": [
    "<img src=\"https://i.imgur.com/zAVgnJc.jpg\">"
   ]
  },
  {
   "cell_type": "markdown",
   "metadata": {},
   "source": [
    "### Histogram\n",
    "\n",
    "Create a Histogram on the map with the hist command. colorscale and binsize can be changed."
   ]
  },
  {
   "cell_type": "code",
   "execution_count": 10,
   "metadata": {
    "collapsed": true
   },
   "outputs": [],
   "source": [
    "geoplotlib.hist(data, colorscale='sqrt', binsize=8)\n",
    "geoplotlib.show()"
   ]
  },
  {
   "cell_type": "markdown",
   "metadata": {},
   "source": [
    "<img src=\"https://i.imgur.com/V4kq2Zh.jpg\">"
   ]
  },
  {
   "cell_type": "markdown",
   "metadata": {},
   "source": [
    "### Bounding Boxes\n",
    "Used to open the map to a specific boundary. The boundary codes built into geoplotlib are as follows:\n",
    "\n",
    ">BoundingBox.WORLD = BoundingBox(north=85, west=-170, south=-85, east=190)\n",
    "\n",
    ">BoundingBox.DK = BoundingBox(north=57.769, west=7.932, south=54.444, east=13.282)\n",
    "\n",
    ">BoundingBox.DTU = BoundingBox(north=55.7925, west=12.5092, south=55.7784, east=12.5309)\n",
    "\n",
    ">BoundingBox.KBH = BoundingBox(north=55.8190, west=12.0369, south=55.5582, east=12.7002)\n",
    "\n",
    ">BoundingBox.DOWNTOWN = BoundingBox(north=55.728229, west=12.420230, south=55.629118, east=12.683902)\n",
    "\n",
    ">BoundingBox.USA = BoundingBox(north=51.338994, west=-124.349040, south=14.851581, east=-56.849040)\n",
    "\n",
    "To use a Bounding Box, you must import BoundingBox from geoplotlib.utils, and call it like 'geoplotlib.set_bbox()' witht the correct boundingbox in the parenthesis."
   ]
  },
  {
   "cell_type": "markdown",
   "metadata": {},
   "source": [
    "### Kernel Density Estimation (kde)\n",
    "This is like a heat map that changes color as the density of data points in an area changes. In this example we use the kde map and also use a bounding box to open the map directly to the United States."
   ]
  },
  {
   "cell_type": "code",
   "execution_count": 11,
   "metadata": {},
   "outputs": [
    {
     "name": "stdout",
     "output_type": "stream",
     "text": [
      "('smallest non-zero count', 1.9918106593387647e-07)\n",
      "('max count:', 13.341441051510294)\n"
     ]
    }
   ],
   "source": [
    "#import the csv reader and bounding box\n",
    "from geoplotlib.utils import read_csv, BoundingBox\n",
    "\n",
    "geoplotlib.kde(data, bw=5, cut_below=1e-4)\n",
    "\n",
    "#THE BOUNDING BOX IS SET TO UNITED STATES SINCE WE HAVE USA DATA.\n",
    "geoplotlib.set_bbox(BoundingBox.USA)\n",
    "geoplotlib.show()"
   ]
  },
  {
   "cell_type": "markdown",
   "metadata": {},
   "source": [
    "<img src=\"https://i.imgur.com/IicYIaB.jpg\">"
   ]
  },
  {
   "cell_type": "markdown",
   "metadata": {},
   "source": [
    "#### You can also change the color of the map (cmap), as well as the bandwidth (bw), below is a map with a much larger bandwitdh, and a different color scheme."
   ]
  },
  {
   "cell_type": "code",
   "execution_count": 12,
   "metadata": {},
   "outputs": [
    {
     "name": "stdout",
     "output_type": "stream",
     "text": [
      "('smallest non-zero count', 1.2449233915905275e-08)\n",
      "('max count:', 2.8206459699853221)\n"
     ]
    }
   ],
   "source": [
    "geoplotlib.kde(data, bw=20, cmap='PuBuGn', cut_below=1e-4)\n",
    "geoplotlib.set_bbox(BoundingBox.USA)\n",
    "geoplotlib.show()"
   ]
  },
  {
   "cell_type": "markdown",
   "metadata": {},
   "source": [
    "<img src=\"https://i.imgur.com/ehkGnxK.jpg\">"
   ]
  },
  {
   "cell_type": "markdown",
   "metadata": {},
   "source": [
    "### Delaunay Triangulation\n",
    "\n",
    "This is a form of trianulation similar to the Voronoi Diagram we will see later on, but the way it is created is slightly different. Delaunay triangulation is determined by the circumcircles of the triangles so that no two points are in the same circumcircle. (https://en.wikipedia.org/wiki/Circumscribed_circle#Triangles). The circles are not actually shown on the map however."
   ]
  },
  {
   "cell_type": "code",
   "execution_count": 13,
   "metadata": {
    "collapsed": true
   },
   "outputs": [],
   "source": [
    "from geoplotlib.layers import DelaunayLayer\n",
    "from geoplotlib.utils import read_csv, BoundingBox\n",
    "\n",
    "\n",
    "data = read_csv('data/campsites.csv')\n",
    "geoplotlib.delaunay(data, cmap='PuBu')\n",
    "geoplotlib.set_bbox(BoundingBox.USA)\n",
    "geoplotlib.set_smoothing(True)\n",
    "geoplotlib.show()"
   ]
  },
  {
   "cell_type": "markdown",
   "metadata": {},
   "source": [
    "<img src=\"https://i.imgur.com/P9XS8BX.jpg\">"
   ]
  },
  {
   "cell_type": "markdown",
   "metadata": {},
   "source": [
    "### Labels!\n",
    "\n",
    "you can easily add a layer to the map so that points are labeled. In this map they are labeled by State, and it gets a little crowded with this many points. Labels like this would be very useful in a map that has a few points plotted, with each point representing a unique, important location."
   ]
  },
  {
   "cell_type": "code",
   "execution_count": 14,
   "metadata": {
    "collapsed": true
   },
   "outputs": [],
   "source": [
    "from geoplotlib.colors import colorbrewer\n",
    "from geoplotlib.utils import epoch_to_str, BoundingBox\n",
    "\n",
    "geoplotlib.dot(data)\n",
    "geoplotlib.labels(data, 'AddressStateCode', color=[0,0,255,255], font_size=8, anchor_x='center')\n",
    "geoplotlib.set_bbox(BoundingBox.USA)\n",
    "geoplotlib.show()"
   ]
  },
  {
   "cell_type": "markdown",
   "metadata": {},
   "source": [
    "<img src=\"https://i.imgur.com/VJcKEeT.jpg\">"
   ]
  },
  {
   "cell_type": "markdown",
   "metadata": {},
   "source": [
    "### Voronoi\n",
    "You can create a voronoi diagram with the voronoi command, that breaks up the map into regions that are partitioned based on proximity to a specific campsite. In this case we are labeling them by FacilityName, and we see that Fall Lake appears where the cursor is. This value can be changed to any column of the data. Again here we use a bounding box to center the map on the USA, although for this screenshot we are zoomed in on Wyoming. \n",
    "\n",
    "Options for the voronoi command also include line color and width.\n",
    "\n",
    "We see another new feature in this example, the \"f_tooptip=lambda d:d['FacilityName']\" option which basically will track the mouse moving across the map and produce text to match the data you are hovering over. In this case we are using the 'FacilityName' data as the labels."
   ]
  },
  {
   "cell_type": "code",
   "execution_count": 15,
   "metadata": {
    "collapsed": true
   },
   "outputs": [],
   "source": [
    "geoplotlib.voronoi(data, line_color='b', f_tooltip=lambda d:d['FacilityName'], line_width=1)\n",
    "geoplotlib.set_smoothing(True)\n",
    "geoplotlib.set_bbox(BoundingBox.USA)\n",
    "geoplotlib.show()"
   ]
  },
  {
   "cell_type": "markdown",
   "metadata": {},
   "source": [
    "<img src=\"https://i.imgur.com/yrVZm1C.jpg\">"
   ]
  },
  {
   "cell_type": "markdown",
   "metadata": {},
   "source": [
    "You can also create a Voronoi diagram that is filled, rather than using the lines, as seen below. Instead of the line color option, you need to use cmap and max area."
   ]
  },
  {
   "cell_type": "code",
   "execution_count": 16,
   "metadata": {
    "collapsed": true
   },
   "outputs": [],
   "source": [
    "data = read_csv('data/campsites.csv')\n",
    "geoplotlib.voronoi(data, cmap='Blues_r', max_area=1e5, alpha=255, f_tooltip=lambda d:d['AddressStateCode'])\n",
    "geoplotlib.set_bbox(BoundingBox.USA)\n",
    "geoplotlib.show()"
   ]
  },
  {
   "cell_type": "markdown",
   "metadata": {},
   "source": [
    "<img src=\"https://i.imgur.com/QU9G1Ah.jpg\">"
   ]
  },
  {
   "cell_type": "markdown",
   "metadata": {},
   "source": [
    "### KMeans Clustering Map\n",
    "\n",
    "You can use geoplotlib together with kmeans to map clusters of the data"
   ]
  },
  {
   "cell_type": "code",
   "execution_count": 17,
   "metadata": {
    "collapsed": true
   },
   "outputs": [],
   "source": [
    "#First make sure all the packages are imported. For this example we need to import map colors, pyglet, kmeans, etc.\n",
    "from geoplotlib.colors import create_set_cmap\n",
    "import pyglet\n",
    "from sklearn.cluster import KMeans\n",
    "import geoplotlib\n",
    "from geoplotlib.layers import BaseLayer\n",
    "from geoplotlib.core import BatchPainter\n",
    "from geoplotlib.utils import BoundingBox\n",
    "import numpy as np"
   ]
  },
  {
   "cell_type": "markdown",
   "metadata": {},
   "source": [
    "We need to set up a class for the KMeans Layer that we are adding to the data in order to show clusters on the map"
   ]
  },
  {
   "cell_type": "code",
   "execution_count": 18,
   "metadata": {
    "collapsed": true
   },
   "outputs": [],
   "source": [
    "class KMeansLayer(BaseLayer):\n",
    "\n",
    "#you need to set self.data as your data set, and choose a starting k value.\n",
    "    def __init__(self, data):\n",
    "        self.data = data\n",
    "        self.k = 2\n",
    "\n",
    "#With this code we are defining x and y as the lon and lat columns in our data and then running the KMeans clustering analysis\n",
    "    def invalidate(self, proj):\n",
    "        self.painter = BatchPainter()\n",
    "        x, y = proj.lonlat_to_screen(self.data['lon'], self.data['lat'])\n",
    "\n",
    "        k_means = KMeans(n_clusters=self.k)\n",
    "        k_means.fit(np.vstack([x,y]).T)\n",
    "        labels = k_means.labels_\n",
    "\n",
    "        self.cmap = create_set_cmap(set(labels), 'hsv')\n",
    "        for l in set(labels):\n",
    "            self.painter.set_color(self.cmap[l])\n",
    "            self.painter.convexhull(x[labels == l], y[labels == l])\n",
    "            self.painter.points(x[labels == l], y[labels == l], 2)\n",
    "    \n",
    "#We can make it so the arrow keys on the keyboard can increase or decrease our k value with the code below            \n",
    "    def draw(self, proj, mouse_x, mouse_y, ui_manager):\n",
    "        ui_manager.info('Use left and right to increase/decrease the number of clusters. k = %d' % self.k)\n",
    "        self.painter.batch_draw()\n",
    "\n",
    "\n",
    "    def on_key_release(self, key, modifiers):\n",
    "        if key == pyglet.window.key.LEFT:\n",
    "            self.k = max(2,self.k - 1)\n",
    "            return True\n",
    "        elif key == pyglet.window.key.RIGHT:\n",
    "            self.k = self.k + 1\n",
    "            return True\n",
    "        return False"
   ]
  },
  {
   "cell_type": "markdown",
   "metadata": {},
   "source": [
    "Finally, add the layer that was created, set bounding box to USA, and show the data"
   ]
  },
  {
   "cell_type": "code",
   "execution_count": 19,
   "metadata": {
    "collapsed": true
   },
   "outputs": [],
   "source": [
    "data = geoplotlib.utils.read_csv('data/campsites.csv')\n",
    "geoplotlib.add_layer(KMeansLayer(data))\n",
    "geoplotlib.set_smoothing(True)\n",
    "geoplotlib.set_bbox(geoplotlib.utils.BoundingBox.USA)\n",
    "geoplotlib.show()"
   ]
  },
  {
   "cell_type": "markdown",
   "metadata": {},
   "source": [
    "#### K = 2 Example\n",
    "\n",
    "<img src=\"https://i.imgur.com/b4xdxlB.jpg\">"
   ]
  },
  {
   "cell_type": "markdown",
   "metadata": {},
   "source": [
    "#### K = 3 Example\n",
    "\n",
    "<img src=\"https://i.imgur.com/t4zJjhO.jpg\">"
   ]
  },
  {
   "cell_type": "markdown",
   "metadata": {},
   "source": [
    "# OTHER FUN EXAMPLES\n",
    "\n",
    "These are taken directly from github just to give an idea of what else geoplotlib can do"
   ]
  },
  {
   "cell_type": "markdown",
   "metadata": {},
   "source": [
    "### Unemployment Color Map\n",
    "\n",
    "This example uses the color map built into geoplotlib, along with a json file, to plot unemployment levels per county, the lighter the shade, the less the unemployment. This example also uses f-tooltip to show the 'name' property when you hover over a county."
   ]
  },
  {
   "cell_type": "code",
   "execution_count": 20,
   "metadata": {
    "collapsed": true
   },
   "outputs": [],
   "source": [
    "import geoplotlib\n",
    "from geoplotlib.utils import BoundingBox\n",
    "from geoplotlib.colors import ColorMap\n",
    "import json\n",
    "\n",
    "\n",
    "# find the unemployment rate for the selected county, and convert it to color\n",
    "def get_color(properties):\n",
    "    key = str(int(properties['STATE'])) + properties['COUNTY']\n",
    "    if key in unemployment:\n",
    "        return cmap.to_color(unemployment.get(key), .15, 'lin')\n",
    "    else:\n",
    "        return [0, 0, 0, 0]\n",
    "\n",
    "\n",
    "with open('examples/data/unemployment.json') as fin:\n",
    "    unemployment = json.load(fin)\n",
    "\n",
    "cmap = ColorMap('Blues', alpha=255, levels=10)\n",
    "geoplotlib.geojson('examples/data/gz_2010_us_050_00_20m.json', fill=True, color=get_color, f_tooltip=lambda properties: properties['NAME'])\n",
    "geoplotlib.geojson('examples/data/gz_2010_us_050_00_20m.json', fill=False, color=[255, 255, 255, 64])\n",
    "geoplotlib.set_bbox(BoundingBox.USA)\n",
    "geoplotlib.show()"
   ]
  },
  {
   "cell_type": "markdown",
   "metadata": {},
   "source": [
    "<img src=\"https://i.imgur.com/H4tHrZm.jpg\">"
   ]
  },
  {
   "cell_type": "markdown",
   "metadata": {},
   "source": [
    "### Flight Path Map\n",
    "\n",
    "This flight path takes two sets of lattitude and longitude. This lets you draw a line between the source and destination coordinates for each set in the data. The color of the line will darken based on the flight distance shown on the map. This creates a very unique looking map that gives the viewer a good idea of popular flight paths in the world."
   ]
  },
  {
   "cell_type": "code",
   "execution_count": 21,
   "metadata": {
    "collapsed": true
   },
   "outputs": [],
   "source": [
    "import geoplotlib\n",
    "from geoplotlib.utils import read_csv\n",
    "\n",
    "\n",
    "data = read_csv('./examples/data/flights.csv')\n",
    "geoplotlib.graph(data,\n",
    "                 src_lat='lat_departure',\n",
    "                 src_lon='lon_departure',\n",
    "                 dest_lat='lat_arrival',\n",
    "                 dest_lon='lon_arrival',\n",
    "                 color='hot_r',\n",
    "                 alpha=16,\n",
    "                 linewidth=2)\n",
    "geoplotlib.show()"
   ]
  },
  {
   "cell_type": "markdown",
   "metadata": {},
   "source": [
    "<img src=\"https://i.imgur.com/keFx3C8.jpg\">"
   ]
  },
  {
   "cell_type": "markdown",
   "metadata": {},
   "source": [
    "### Animated Taxi Paths\n",
    "\n",
    "The animated map is created with a variety of commands found in geoplotlib. The trails are created from layers and are colored and animated with BatchPainter and colorbrewer, based on the timestamp and coordinates found in the taxi.csv data file."
   ]
  },
  {
   "cell_type": "code",
   "execution_count": 22,
   "metadata": {
    "collapsed": true
   },
   "outputs": [],
   "source": [
    "from geoplotlib.layers import BaseLayer\n",
    "from geoplotlib.core import BatchPainter\n",
    "import geoplotlib\n",
    "from geoplotlib.colors import colorbrewer\n",
    "from geoplotlib.utils import epoch_to_str, BoundingBox, read_csv\n",
    "\n",
    "\n",
    "class TrailsLayer(BaseLayer):\n",
    "\n",
    "    def __init__(self):\n",
    "        self.data = read_csv('examples/data/taxi.csv')\n",
    "        self.cmap = colorbrewer(self.data['taxi_id'], alpha=220)\n",
    "        self.t = self.data['timestamp'].min()\n",
    "        self.painter = BatchPainter()\n",
    "\n",
    "\n",
    "    def draw(self, proj, mouse_x, mouse_y, ui_manager):\n",
    "        self.painter = BatchPainter()\n",
    "        df = self.data.where((self.data['timestamp'] > self.t) & (self.data['timestamp'] <= self.t + 15*60))\n",
    "\n",
    "        for taxi_id in set(df['taxi_id']):\n",
    "            grp = df.where(df['taxi_id'] == taxi_id)\n",
    "            self.painter.set_color(self.cmap[taxi_id])\n",
    "            x, y = proj.lonlat_to_screen(grp['lon'], grp['lat'])\n",
    "            self.painter.points(x, y, 10)\n",
    "\n",
    "        self.t += 2*60\n",
    "\n",
    "        if self.t > self.data['timestamp'].max():\n",
    "            self.t = self.data['timestamp'].min()\n",
    "\n",
    "        self.painter.batch_draw()\n",
    "        ui_manager.info(epoch_to_str(self.t))\n",
    "\n",
    "\n",
    "    def bbox(self):\n",
    "        return BoundingBox(north=40.110222, west=115.924463, south=39.705711, east=116.803369)\n",
    "\n",
    "\n",
    "geoplotlib.add_layer(TrailsLayer())\n",
    "geoplotlib.show()"
   ]
  },
  {
   "cell_type": "markdown",
   "metadata": {},
   "source": [
    "<img src=\"https://i.imgur.com/aIL6hJp.gif\">"
   ]
  },
  {
   "cell_type": "markdown",
   "metadata": {},
   "source": [
    "### Another example of a taxi path, but this one uses an animation layer to follow the path of the taxi with the window."
   ]
  },
  {
   "cell_type": "code",
   "execution_count": 23,
   "metadata": {
    "collapsed": true
   },
   "outputs": [],
   "source": [
    "from geoplotlib.layers import BaseLayer\n",
    "from geoplotlib.core import BatchPainter\n",
    "import geoplotlib\n",
    "from geoplotlib.utils import epoch_to_str, BoundingBox, read_csv\n",
    "\n",
    "\n",
    "class TrailsLayer(BaseLayer):\n",
    "\n",
    "    def __init__(self):\n",
    "        self.data = read_csv('examples/data/taxi.csv')\n",
    "        self.data = self.data.where(self.data['taxi_id'] == list(set(self.data['taxi_id']))[2])\n",
    "        self.t = self.data['timestamp'].min()\n",
    "        self.painter = BatchPainter()\n",
    "\n",
    "\n",
    "    def draw(self, proj, mouse_x, mouse_y, ui_manager):\n",
    "        self.painter = BatchPainter()\n",
    "        self.painter.set_color([0,0,255])\n",
    "        df = self.data.where((self.data['timestamp'] > self.t) & (self.data['timestamp'] <= self.t + 30*60))\n",
    "        proj.fit(BoundingBox.from_points(lons=df['lon'], lats=df['lat']), max_zoom=14)\n",
    "        x, y = proj.lonlat_to_screen(df['lon'], df['lat'])\n",
    "        self.painter.linestrip(x, y, 10)\n",
    "        self.t += 30\n",
    "        if self.t > self.data['timestamp'].max():\n",
    "            self.t = self.data['timestamp'].min()\n",
    "\n",
    "        self.painter.batch_draw()\n",
    "        ui_manager.info(epoch_to_str(self.t))\n",
    "\n",
    "\n",
    "geoplotlib.add_layer(TrailsLayer())\n",
    "geoplotlib.show()"
   ]
  },
  {
   "cell_type": "markdown",
   "metadata": {},
   "source": [
    "<img src=\"https://i.imgur.com/SRYeKiq.gif\">"
   ]
  },
  {
   "cell_type": "markdown",
   "metadata": {},
   "source": [
    "## References\n",
    "\n",
    "GEOPLOTLIB GitHub:\n",
    "\n",
    "https://github.com/andrea-cuttone/geoplotlib/wiki/User-Guide\n",
    "\n",
    "https://github.com/andrea-cuttone/geoplotlib\n",
    "\n",
    "pyglet:\n",
    "\n",
    "https://bitbucket.org/pyglet/pyglet/wiki/Download\n",
    "\n",
    "Campsite Data:\n",
    "\n",
    "https://www.kaggle.com/cypranowska/us-campsites/data"
   ]
  }
 ],
 "metadata": {
  "kernelspec": {
   "display_name": "Python 2",
   "language": "python",
   "name": "python2"
  },
  "language_info": {
   "codemirror_mode": {
    "name": "ipython",
    "version": 2
   },
   "file_extension": ".py",
   "mimetype": "text/x-python",
   "name": "python",
   "nbconvert_exporter": "python",
   "pygments_lexer": "ipython2",
   "version": "2.7.13"
  }
 },
 "nbformat": 4,
 "nbformat_minor": 2
}
